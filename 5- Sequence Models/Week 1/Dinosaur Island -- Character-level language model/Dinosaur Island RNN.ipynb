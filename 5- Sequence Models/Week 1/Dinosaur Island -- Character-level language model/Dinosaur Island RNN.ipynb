{
 "cells": [
  {
   "cell_type": "code",
   "execution_count": 1,
   "metadata": {},
   "outputs": [],
   "source": [
    "import numpy as np\n",
    "import random\n",
    "import torch\n",
    "import torch.nn as nn\n",
    "import torch.optim as optim\n",
    "import pdb\n",
    "from torch.utils.data import Dataset, DataLoader\n",
    "\n",
    "%load_ext autoreload\n",
    "%autoreload 2\n",
    "\n",
    "torch.set_printoptions(linewidth=200)"
   ]
  },
  {
   "cell_type": "code",
   "execution_count": 2,
   "metadata": {},
   "outputs": [],
   "source": [
    "device = torch.device(\"cuda:0\" if torch.cuda.is_available() else \"cpu\")\n",
    "hidden_size = 100"
   ]
  },
  {
   "cell_type": "code",
   "execution_count": 3,
   "metadata": {
    "code_folding": []
   },
   "outputs": [],
   "source": [
    "import torch\n",
    "from torch.utils.data import Dataset\n",
    "\n",
    "class DinosDataset(Dataset):\n",
    "    def __init__(self):\n",
    "        super().__init__()\n",
    "        with open('dinos.txt') as f:\n",
    "            content = f.read().lower()  # to lower case\n",
    "        \n",
    "        self.vocab = sorted(set(content))  # set removes repetition\n",
    "        self.vocab_size = len(self.vocab)\n",
    "\n",
    "        self.lines = content.splitlines()\n",
    "\n",
    "        # Create dictionaries for character-to-index and index-to-character conversions\n",
    "        self.ch_to_idx = {c: i for i, c in enumerate(self.vocab)}\n",
    "        self.idx_to_ch = {i: c for i, c in enumerate(self.vocab)}\n",
    "    \n",
    "    def __getitem__(self, index):\n",
    "        line = self.lines[index]\n",
    "\n",
    "        # Prepend a space to the line. This is often used in text models to represent the start of a sequence.\n",
    "        x_str = ' ' + line\n",
    "        # Append a newline character to the line, possibly to indicate the end of a sequence.\n",
    "        y_str = line + '\\n'\n",
    "\n",
    "        # Initialize a tensor for x with zeros. The shape is [length of the string, vocabulary size].\n",
    "        x = torch.zeros([len(x_str), self.vocab_size], dtype=torch.float)\n",
    "        # Initialize a tensor for y. It will contain the indices of characters.\n",
    "        y = torch.empty(len(x_str), dtype=torch.long)\n",
    "\n",
    "        # The first character of y is the first character of the line. \n",
    "        # The corresponding x value is a vector of zeros, representing the start.\n",
    "        y[0] = self.ch_to_idx[y_str[0]]\n",
    "\n",
    "        # Iterate over each character in the line (excluding the first space in x_str)\n",
    "        for i, (x_ch, y_ch) in enumerate(zip(x_str[1:], y_str[1:]), start=1):\n",
    "            # x is an one-hot encoding of the charactor\n",
    "            x[i][self.ch_to_idx[x_ch]] = 1\n",
    "            # y is the index of the charactor\n",
    "            y[i] = self.ch_to_idx[y_ch]\n",
    "        \n",
    "        # Return the pair of tensors representing the input and target for the model\n",
    "        return x, y\n",
    "    \n",
    "    def __len__(self):\n",
    "        # Return the total number of lines in the dataset\n",
    "        return len(self.lines)\n"
   ]
  },
  {
   "cell_type": "code",
   "execution_count": 4,
   "metadata": {},
   "outputs": [],
   "source": [
    "trn_ds = DinosDataset()\n",
    "trn_dl = DataLoader(trn_ds, batch_size=1, shuffle=True)"
   ]
  },
  {
   "cell_type": "markdown",
   "metadata": {},
   "source": [
    "With this tokenization, the first vector in $x$ is always a zero vector (for \" \"), and the last element in $y$ is always 0 (for \"\\n\")."
   ]
  },
  {
   "cell_type": "code",
   "execution_count": 5,
   "metadata": {},
   "outputs": [
    {
     "data": {
      "text/plain": [
       "(tensor([[0., 0., 0., 0., 0., 0., 0., 0., 0., 0., 0., 0., 0., 0., 0., 0., 0., 0., 0., 0., 0., 0., 0., 0., 0., 0., 0.],\n",
       "         [0., 1., 0., 0., 0., 0., 0., 0., 0., 0., 0., 0., 0., 0., 0., 0., 0., 0., 0., 0., 0., 0., 0., 0., 0., 0., 0.],\n",
       "         [0., 1., 0., 0., 0., 0., 0., 0., 0., 0., 0., 0., 0., 0., 0., 0., 0., 0., 0., 0., 0., 0., 0., 0., 0., 0., 0.],\n",
       "         [0., 0., 0., 0., 0., 0., 0., 0., 0., 0., 0., 0., 0., 0., 0., 0., 0., 0., 1., 0., 0., 0., 0., 0., 0., 0., 0.],\n",
       "         [0., 0., 0., 0., 1., 0., 0., 0., 0., 0., 0., 0., 0., 0., 0., 0., 0., 0., 0., 0., 0., 0., 0., 0., 0., 0., 0.],\n",
       "         [0., 0., 0., 0., 0., 0., 0., 0., 0., 0., 0., 0., 0., 0., 0., 1., 0., 0., 0., 0., 0., 0., 0., 0., 0., 0., 0.],\n",
       "         [0., 0., 0., 0., 0., 0., 0., 0., 0., 0., 0., 0., 0., 0., 1., 0., 0., 0., 0., 0., 0., 0., 0., 0., 0., 0., 0.],\n",
       "         [0., 0., 0., 0., 0., 0., 0., 0., 0., 0., 0., 0., 0., 0., 0., 0., 0., 0., 0., 0., 0., 0., 0., 0., 0., 1., 0.],\n",
       "         [0., 0., 0., 0., 0., 0., 0., 0., 0., 0., 0., 0., 0., 0., 0., 0., 0., 0., 0., 0., 0., 0., 0., 0., 1., 0., 0.]]),\n",
       " tensor([ 1,  1, 18,  4, 15, 14, 25, 24,  0]))"
      ]
     },
     "execution_count": 5,
     "metadata": {},
     "output_type": "execute_result"
    }
   ],
   "source": [
    "trn_ds[1]"
   ]
  },
  {
   "cell_type": "code",
   "execution_count": 6,
   "metadata": {
    "code_folding": []
   },
   "outputs": [],
   "source": [
    "class RNN(nn.Module):\n",
    "    def __init__(self, input_size, hidden_size, output_size):\n",
    "        super().__init__()\n",
    "        self.hidden_size = hidden_size\n",
    "        self.linear_hh = nn.Linear(hidden_size, hidden_size)\n",
    "        self.linear_hx = nn.Linear(input_size, hidden_size, bias=False)\n",
    "        self.linear_output = nn.Linear(hidden_size, output_size)\n",
    "    \n",
    "    def forward(self, h_prev, x):\n",
    "        h = torch.tanh(self.linear_hh(h_prev) + self.linear_hx(x))\n",
    "        y = self.linear_output(h)\n",
    "        return h, y"
   ]
  },
  {
   "cell_type": "code",
   "execution_count": 7,
   "metadata": {},
   "outputs": [],
   "source": [
    "model = RNN(trn_ds.vocab_size, hidden_size, trn_ds.vocab_size).to(device)\n",
    "loss_fn = nn.CrossEntropyLoss()\n",
    "optimizer = optim.SGD(model.parameters(), lr=1e-2)"
   ]
  },
  {
   "cell_type": "code",
   "execution_count": 8,
   "metadata": {
    "code_folding": []
   },
   "outputs": [],
   "source": [
    "def print_sample(sample_idxs):\n",
    "    print(trn_ds.idx_to_ch[sample_idxs[0]].upper(), end='')\n",
    "    [print(trn_ds.idx_to_ch[x], end='') for x in sample_idxs[1:]]"
   ]
  },
  {
   "cell_type": "code",
   "execution_count": 9,
   "metadata": {
    "code_folding": []
   },
   "outputs": [],
   "source": [
    "def sample(model, trn_ds, device):\n",
    "    model.eval()\n",
    "    word_size = 0\n",
    "\n",
    "    newline_idx = trn_ds.ch_to_idx['\\n']\n",
    "    indices = []  # store the output\n",
    "    pred_char_idx = -1\n",
    "    # Initialize h_prev\n",
    "    h_prev = torch.zeros([1, model.hidden_size], dtype=torch.float, device=device)\n",
    "    # Initialize the input tensor\\\n",
    "    x = h_prev.new_zeros([1, trn_ds.vocab_size])\n",
    "\n",
    "    with torch.no_grad():\n",
    "        # Generate characters until the newline character is predicted or the word reaches 50 characters\n",
    "        while pred_char_idx != newline_idx and word_size != 50:\n",
    "            h_prev, y_pred = model(h_prev, x)\n",
    "            # Apply softmax to get probability distribution over the vocabulary\n",
    "            softmax_scores = torch.softmax(y_pred, dim=1).cpu().numpy().ravel()\n",
    "            # Randomly select a character index based on the predicted probabilities\n",
    "            np.random.seed(np.random.randint(1, 5000))\n",
    "            idx = np.random.choice(np.arange(trn_ds.vocab_size), p=softmax_scores)\n",
    "            indices.append(idx)\n",
    "            \n",
    "            # Update the input to the chosen next charactor\n",
    "            x = (y_pred == y_pred.max(1)[0]).float()\n",
    "            # check end of line\n",
    "            pred_char_idx = idx\n",
    "            \n",
    "            word_size += 1\n",
    "        \n",
    "        # If maximum length is reached, append the newline index at the end of the output tensor\n",
    "        if word_size == 50:\n",
    "            indices.append(newline_idx)\n",
    "\n",
    "    return indices"
   ]
  },
  {
   "cell_type": "code",
   "execution_count": 10,
   "metadata": {
    "code_folding": []
   },
   "outputs": [],
   "source": [
    "def train_one_epoch(model, loss_fn, optimizer, trn_dl, device):\n",
    "    # Iterate over all lines (batches) in the DataLoader\n",
    "    for line_num, (x, y) in enumerate(trn_dl):\n",
    "        model.train()\n",
    "        loss = 0\n",
    "        optimizer.zero_grad()\n",
    "        # Initialize the h_prev at the start of each line\n",
    "        h_prev = torch.zeros([1, model.hidden_size], dtype=torch.float, device=device)\n",
    "        x, y = x.to(device), y.to(device)\n",
    "\n",
    "        # Iterate over each character in the line\n",
    "        for i in range(x.shape[1]):\n",
    "            # Forward pass: compute predicted y by passing x and h_prev to the model\n",
    "            h_prev, y_pred = model(h_prev, x[:, i])\n",
    "            # Accumulate the loss\n",
    "            loss += loss_fn(y_pred, y[:, i])\n",
    "\n",
    "        # Print a sample every 100 lines\n",
    "        if (line_num + 1) % 100 == 0:\n",
    "            print_sample(sample(model, trn_ds, device))\n",
    "            \n",
    "        loss.backward()\n",
    "        # Clip gradients to prevent exploding gradient problem in RNNs\n",
    "        torch.nn.utils.clip_grad_norm_(model.parameters(), 5)\n",
    "        optimizer.step()"
   ]
  },
  {
   "cell_type": "code",
   "execution_count": 11,
   "metadata": {
    "code_folding": []
   },
   "outputs": [],
   "source": [
    "def train(model, loss_fn, optimizer, trn_dl, device, epochs=1):\n",
    "    # Train the model for a number of epochs\n",
    "    for e in range(1, epochs + 1):\n",
    "        print(f'{\"-\" * 20} Epoch {e} {\"-\" * 20}')\n",
    "        # Train the model for one epoch\n",
    "        train_one_epoch(model, loss_fn, optimizer, trn_dl, device)"
   ]
  },
  {
   "cell_type": "code",
   "execution_count": 12,
   "metadata": {},
   "outputs": [
    {
     "name": "stdout",
     "output_type": "stream",
     "text": [
      "-------------------- Epoch 1 --------------------\n",
      "Fastrrxusa\n",
      "Quookssr\n",
      "Guafeos\n",
      "Pssysrsrnraolus\n",
      "Rrhvsonaurur\n",
      "Sacuoemaurusturus\n",
      "Dumlcnerusalrus\n",
      "Esplytngus\n",
      "Jmairanuras\n",
      "Laresashur\n",
      "Xpsesourus\n",
      "Jyrnsiueus\n",
      "Guburrbrus\n",
      "Lermr\n",
      "Tarussnrus\n",
      "-------------------- Epoch 2 --------------------\n",
      "Etrounurus\n",
      "Inais\n",
      "Sisakluaus\n",
      "Hlcucaurus\n",
      "Turiseusus\n",
      "Suaos\n",
      "Gucurserus\n",
      "Lfrir\n",
      "Tcivntlaurus\n",
      "Rnvusaur\n",
      "Inbis\n",
      "Slsailucus\n",
      "Hlcucaurus\n",
      "Tureshusus\n",
      "Suans\n",
      "-------------------- Epoch 3 --------------------\n",
      "Fucuotdrus\n",
      "Lhrir\n",
      "Tcrustmrus\n",
      "Etrotiurus\n",
      "Inbgs\n",
      "Slsaimugus\n",
      "Hlaucitaurus\n",
      "Llrusuurus\n",
      "Amraroirus\n",
      "Burasaurus\n",
      "Ansrsaurus\n",
      "Ssrysauruh\n",
      "Lbruaiuras\n",
      "Larasaumus\n",
      "Wrsassurus\n",
      "-------------------- Epoch 4 --------------------\n",
      "Kyrksluhus\n",
      "Fuauiscrus\n",
      "Lirhr\n",
      "Tcrupteaurus\n",
      "Snvuriuras\n",
      "Alrasaunus\n",
      "Aalros\n",
      "Tcrusturus\n",
      "Ehurus\n",
      "Rusaranrus\n",
      "Guaasacros\n",
      "Hbraoturesauros\n",
      "Kyrosmulus\n",
      "Eucuotirus\n",
      "Lirio\n",
      "-------------------- Epoch 5 --------------------\n",
      "Tcrusttrus\n",
      "Diurysauruo\n",
      "Lalrasaurus\n",
      "Anhuragras\n",
      "Pueuspurus\n",
      "Yurustcrus\n",
      "Scretalruf\n",
      "Cuoibtlrus\n",
      "Bururaurus\n",
      "Lsruaisaurus\n",
      "Tbeunasaurus\n",
      "Antotaurus\n",
      "Rtrysauruo\n",
      "Lbrocaurus\n",
      "Laiesaurus\n"
     ]
    }
   ],
   "source": [
    "train(model, loss_fn, optimizer, trn_dl, device, epochs=5)"
   ]
  },
  {
   "cell_type": "markdown",
   "metadata": {},
   "source": [
    "## Print training data (used for debugging, you can ignore this)"
   ]
  },
  {
   "cell_type": "code",
   "execution_count": 13,
   "metadata": {
    "code_folding": []
   },
   "outputs": [],
   "source": [
    "def print_ds(ds, num_examples=10):\n",
    "    for i, (x, y) in enumerate(trn_ds, 1):\n",
    "        print('*'*50)\n",
    "        x_str, y_str = '', ''\n",
    "        for idx in y:\n",
    "            y_str += trn_ds.idx_to_ch[idx.item()]\n",
    "        print(repr(y_str))\n",
    "\n",
    "        for t in x[1:]:\n",
    "            x_str += trn_ds.idx_to_ch[t.argmax().item()]\n",
    "        print(repr(x_str))\n",
    "\n",
    "        if i == num_examples:\n",
    "            break"
   ]
  },
  {
   "cell_type": "code",
   "execution_count": 14,
   "metadata": {},
   "outputs": [
    {
     "name": "stdout",
     "output_type": "stream",
     "text": [
      "**************************************************\n",
      "'aachenosaurus\\n'\n",
      "'aachenosaurus'\n",
      "**************************************************\n",
      "'aardonyx\\n'\n",
      "'aardonyx'\n",
      "**************************************************\n",
      "'abdallahsaurus\\n'\n",
      "'abdallahsaurus'\n",
      "**************************************************\n",
      "'abelisaurus\\n'\n",
      "'abelisaurus'\n",
      "**************************************************\n",
      "'abrictosaurus\\n'\n",
      "'abrictosaurus'\n"
     ]
    }
   ],
   "source": [
    "print_ds(trn_ds, 5)"
   ]
  }
 ],
 "metadata": {
  "kernelspec": {
   "display_name": "Python 3 (ipykernel)",
   "language": "python",
   "name": "python3"
  },
  "language_info": {
   "codemirror_mode": {
    "name": "ipython",
    "version": 3
   },
   "file_extension": ".py",
   "mimetype": "text/x-python",
   "name": "python",
   "nbconvert_exporter": "python",
   "pygments_lexer": "ipython3",
   "version": "3.10.12"
  }
 },
 "nbformat": 4,
 "nbformat_minor": 4
}
