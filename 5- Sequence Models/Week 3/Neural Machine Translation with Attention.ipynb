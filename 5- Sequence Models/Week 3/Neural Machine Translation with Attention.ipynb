{
 "cells": [
  {
   "cell_type": "markdown",
   "id": "29b1201f-f69d-42c7-a9ca-de274a30746a",
   "metadata": {
    "id": "adTDe2CTh3MU"
   },
   "source": [
    "# Neural Machine Translation\n",
    "\n",
    "Welcome to your first programming assignment for this week! \n",
    "\n",
    "* You will build a Neural Machine Translation (NMT) model to translate human-readable dates (\"25th of June, 2009\") into machine-readable dates (\"2009-06-25\"). \n",
    "* You will do this using an attention model, one of the most sophisticated sequence-to-sequence models. "
   ]
  },
  {
   "cell_type": "code",
   "execution_count": 1,
   "id": "e8c1de49-de3f-4d6b-8c1b-ec303633ed78",
   "metadata": {},
   "outputs": [],
   "source": [
    "from nmt_utils import *\n",
    "import torch\n",
    "import torch.nn as nn\n",
    "import torch.nn.functional as F"
   ]
  },
  {
   "cell_type": "markdown",
   "id": "1b5c241f-a2fd-42e7-8d76-7c66cc2871c7",
   "metadata": {
    "id": "J0pkH-k0h3Mf"
   },
   "source": [
    "<a name='1'></a>\n",
    "## 1 - Translating Human Readable Dates Into Machine Readable Dates\n",
    "\n",
    "* The model you will build here could be used to translate from one language to another, such as translating from English to Hindi. \n",
    "* However, language translation requires massive datasets and usually takes days of training on GPUs. \n",
    "* To give you a place to experiment with these models without using massive datasets, we will perform a simpler \"date translation\" task. \n",
    "* The network will input a date written in a variety of possible formats (*e.g. \"the 29th of August 1958\", \"03/30/1968\", \"24 JUNE 1987\"*) \n",
    "* The network will translate them into standardized, machine readable dates (*e.g. \"1958-08-29\", \"1968-03-30\", \"1987-06-24\"*). \n",
    "* We will have the network learn to output dates in the common machine-readable format YYYY-MM-DD. \n",
    "\n",
    "<!-- \n",
    "Take a look at [nmt_utils.py](./nmt_utils.py) to see all the formatting. Count and figure out how the formats work, you will need this knowledge later. !--> "
   ]
  },
  {
   "cell_type": "markdown",
   "id": "d22b1893-2819-4e4d-bd00-6cd59d51b6d8",
   "metadata": {
    "id": "8BhEaJvph3Mf"
   },
   "source": [
    "<a name='1-1'></a>\n",
    "### 1.1 - Dataset\n",
    "\n",
    "We will train the model on a dataset of 10,000 human readable dates and their equivalent, standardized, machine readable dates. Let's run the following cells to load the dataset and print some examples. "
   ]
  },
  {
   "cell_type": "code",
   "execution_count": 109,
   "id": "219d91f3-a64d-4a1c-a50e-a0e21a22a7b9",
   "metadata": {},
   "outputs": [
    {
     "name": "stderr",
     "output_type": "stream",
     "text": [
      "100%|██████████████████████████████████| 10000/10000 [00:00<00:00, 16247.86it/s]\n"
     ]
    }
   ],
   "source": [
    "m = 10000\n",
    "dataset, human_vocab, machine_vocab, inv_machine_vocab = load_dataset(m)"
   ]
  },
  {
   "cell_type": "code",
   "execution_count": 4,
   "id": "c72295e0-a3c6-40ac-a897-c0eb531a252e",
   "metadata": {},
   "outputs": [
    {
     "data": {
      "text/plain": [
       "[('8 jul 1992', '1992-07-08'),\n",
       " ('20.07.70', '1970-07-20'),\n",
       " ('8/7/14', '2014-08-07'),\n",
       " ('friday february 21 1986', '1986-02-21'),\n",
       " ('wednesday november 29 1989', '1989-11-29'),\n",
       " ('thursday june 19 1980', '1980-06-19'),\n",
       " ('friday august 4 2000', '2000-08-04'),\n",
       " ('27 sep 1978', '1978-09-27'),\n",
       " ('19 sep 1976', '1976-09-19'),\n",
       " ('wednesday may 26 1993', '1993-05-26')]"
      ]
     },
     "execution_count": 4,
     "metadata": {},
     "output_type": "execute_result"
    }
   ],
   "source": [
    "dataset[:10]"
   ]
  },
  {
   "cell_type": "markdown",
   "id": "1d33e9f5-3072-4055-923b-cf501c709a52",
   "metadata": {
    "id": "ao4Ffrkxh3Mg"
   },
   "source": [
    "You've loaded:\n",
    "- `dataset`: a list of tuples of (human readable date, machine readable date).\n",
    "- `human_vocab`: a python dictionary mapping all characters used in the human readable dates to an integer-valued index.\n",
    "- `machine_vocab`: a python dictionary mapping all characters used in machine readable dates to an integer-valued index. \n",
    "    - **Note**: These indices are not necessarily consistent with `human_vocab`. \n",
    "- `inv_machine_vocab`: the inverse dictionary of `machine_vocab`, mapping from indices back to characters. \n",
    "\n",
    "Let's preprocess the data and map the raw text data into the index values. \n",
    "- We will set Tx=30 \n",
    "    - We assume Tx is the maximum length of the human readable date.\n",
    "    - If we get a longer input, we would have to truncate it.\n",
    "- We will set Ty=10\n",
    "    - \"YYYY-MM-DD\" is 10 characters long."
   ]
  },
  {
   "cell_type": "code",
   "execution_count": 5,
   "id": "f18c0a0a-d32e-4567-87c9-c32ee0a7e4c9",
   "metadata": {},
   "outputs": [
    {
     "data": {
      "text/plain": [
       "{' ': 0,\n",
       " '.': 1,\n",
       " '/': 2,\n",
       " '0': 3,\n",
       " '1': 4,\n",
       " '2': 5,\n",
       " '3': 6,\n",
       " '4': 7,\n",
       " '5': 8,\n",
       " '6': 9,\n",
       " '7': 10,\n",
       " '8': 11,\n",
       " '9': 12,\n",
       " 'a': 13,\n",
       " 'b': 14,\n",
       " 'c': 15,\n",
       " 'd': 16,\n",
       " 'e': 17,\n",
       " 'f': 18,\n",
       " 'g': 19,\n",
       " 'h': 20,\n",
       " 'i': 21,\n",
       " 'j': 22,\n",
       " 'l': 23,\n",
       " 'm': 24,\n",
       " 'n': 25,\n",
       " 'o': 26,\n",
       " 'p': 27,\n",
       " 'r': 28,\n",
       " 's': 29,\n",
       " 't': 30,\n",
       " 'u': 31,\n",
       " 'v': 32,\n",
       " 'w': 33,\n",
       " 'y': 34,\n",
       " '<unk>': 35,\n",
       " '<pad>': 36}"
      ]
     },
     "execution_count": 5,
     "metadata": {},
     "output_type": "execute_result"
    }
   ],
   "source": [
    "human_vocab"
   ]
  },
  {
   "cell_type": "code",
   "execution_count": 6,
   "id": "e51acdd6-5d00-432f-ba3a-20b6c953cd5e",
   "metadata": {
    "colab": {
     "base_uri": "https://localhost:8080/"
    },
    "executionInfo": {
     "elapsed": 16962,
     "status": "ok",
     "timestamp": 1612468514157,
     "user": {
      "displayName": "Mubsi K",
      "photoUrl": "https://lh3.googleusercontent.com/a-/AOh14Gip7OjOkdNkKxKDyWEQAq1o8ccGN_HrBTGdqjgQ=s64",
      "userId": "08094225471505108399"
     },
     "user_tz": -300
    },
    "id": "Qdso90EBh3Mg",
    "outputId": "0a364ad8-8b25-4de3-f036-d5d8e40bdf8c"
   },
   "outputs": [
    {
     "name": "stdout",
     "output_type": "stream",
     "text": [
      "X.shape: (10000, 30)\n",
      "Y.shape: (10000, 10)\n",
      "Xoh.shape: torch.Size([10000, 30, 37])\n",
      "Yoh.shape: torch.Size([10000, 10, 11])\n"
     ]
    }
   ],
   "source": [
    "Tx = 30\n",
    "Ty = 10\n",
    "X, Y, Xoh, Yoh = preprocess_data(dataset, human_vocab, machine_vocab, Tx, Ty)\n",
    "\n",
    "device = torch.device('cuda' if torch.cuda.is_available() else 'cpu')\n",
    "Xoh = Xoh.to(device)\n",
    "Yoh = Yoh.to(device)\n",
    "\n",
    "print(\"X.shape:\", X.shape)\n",
    "print(\"Y.shape:\", Y.shape)\n",
    "print(\"Xoh.shape:\", Xoh.shape)\n",
    "print(\"Yoh.shape:\", Yoh.shape)"
   ]
  },
  {
   "cell_type": "markdown",
   "id": "0a7f8d18-96d4-4ba1-8a11-930d74a99f27",
   "metadata": {
    "id": "q9C0UY25h3Mh"
   },
   "source": [
    "You now have:\n",
    "- `X`: a processed version of the human readable dates in the training set.\n",
    "    - Each character in X is replaced by an index (integer) mapped to the character using `human_vocab`. \n",
    "    - Each date is padded to ensure a length of $T_x$ using a special character (< pad >). \n",
    "    - `X.shape = (m, Tx)` where m is the number of training examples in a batch.\n",
    "- `Y`: a processed version of the machine readable dates in the training set.\n",
    "    - Each character is replaced by the index (integer) it is mapped to in `machine_vocab`. \n",
    "    - `Y.shape = (m, Ty)`. \n",
    "- `Xoh`: one-hot version of `X`\n",
    "    - Each index in `X` is converted to the one-hot representation (if the index is 2, the one-hot version has the index position 2 set to 1, and the remaining positions are 0.\n",
    "    - `Xoh.shape = (m, Tx, len(human_vocab))`\n",
    "- `Yoh`: one-hot version of `Y`\n",
    "    - Each index in `Y` is converted to the one-hot representation. \n",
    "    - `Yoh.shape = (m, Ty, len(machine_vocab))`. \n",
    "    - `len(machine_vocab) = 11` since there are 10 numeric digits (0 to 9) and the `-` symbol."
   ]
  },
  {
   "cell_type": "markdown",
   "id": "97e00a67-ae18-45c0-ad6f-d3249179f7be",
   "metadata": {
    "id": "N7qKvWrTh3Mh"
   },
   "source": [
    "* Let's also look at some examples of preprocessed training examples. \n",
    "* Feel free to play with `index` in the cell below to navigate the dataset and see how source/target dates are preprocessed. "
   ]
  },
  {
   "cell_type": "code",
   "execution_count": 7,
   "id": "a27f9f51-264b-43db-9548-35358a9d4f14",
   "metadata": {
    "colab": {
     "base_uri": "https://localhost:8080/"
    },
    "executionInfo": {
     "elapsed": 16952,
     "status": "ok",
     "timestamp": 1612468514158,
     "user": {
      "displayName": "Mubsi K",
      "photoUrl": "https://lh3.googleusercontent.com/a-/AOh14Gip7OjOkdNkKxKDyWEQAq1o8ccGN_HrBTGdqjgQ=s64",
      "userId": "08094225471505108399"
     },
     "user_tz": -300
    },
    "id": "kUOayR4gh3Mh",
    "outputId": "d20994de-bbea-4cc7-ffaf-38a05974c9db"
   },
   "outputs": [
    {
     "name": "stdout",
     "output_type": "stream",
     "text": [
      "Source date: 8 jul 1992\n",
      "Target date: 1992-07-08\n",
      "\n",
      "Source after preprocessing (indices): [11  0 22 31 23  0  4 12 12  5 36 36 36 36 36 36 36 36 36 36 36 36 36 36\n",
      " 36 36 36 36 36 36]\n",
      "Target after preprocessing (indices): [ 2 10 10  3  0  1  8  0  1  9]\n",
      "\n",
      "Source after preprocessing (one-hot): tensor([[0., 0., 0.,  ..., 0., 0., 0.],\n",
      "        [1., 0., 0.,  ..., 0., 0., 0.],\n",
      "        [0., 0., 0.,  ..., 0., 0., 0.],\n",
      "        ...,\n",
      "        [0., 0., 0.,  ..., 0., 0., 1.],\n",
      "        [0., 0., 0.,  ..., 0., 0., 1.],\n",
      "        [0., 0., 0.,  ..., 0., 0., 1.]], device='cuda:0')\n",
      "Target after preprocessing (one-hot): tensor([[0., 0., 1., 0., 0., 0., 0., 0., 0., 0., 0.],\n",
      "        [0., 0., 0., 0., 0., 0., 0., 0., 0., 0., 1.],\n",
      "        [0., 0., 0., 0., 0., 0., 0., 0., 0., 0., 1.],\n",
      "        [0., 0., 0., 1., 0., 0., 0., 0., 0., 0., 0.],\n",
      "        [1., 0., 0., 0., 0., 0., 0., 0., 0., 0., 0.],\n",
      "        [0., 1., 0., 0., 0., 0., 0., 0., 0., 0., 0.],\n",
      "        [0., 0., 0., 0., 0., 0., 0., 0., 1., 0., 0.],\n",
      "        [1., 0., 0., 0., 0., 0., 0., 0., 0., 0., 0.],\n",
      "        [0., 1., 0., 0., 0., 0., 0., 0., 0., 0., 0.],\n",
      "        [0., 0., 0., 0., 0., 0., 0., 0., 0., 1., 0.]], device='cuda:0')\n"
     ]
    }
   ],
   "source": [
    "index = 0\n",
    "print(\"Source date:\", dataset[index][0])\n",
    "print(\"Target date:\", dataset[index][1])\n",
    "print()\n",
    "print(\"Source after preprocessing (indices):\", X[index])\n",
    "print(\"Target after preprocessing (indices):\", Y[index])\n",
    "print()\n",
    "print(\"Source after preprocessing (one-hot):\", Xoh[index])\n",
    "print(\"Target after preprocessing (one-hot):\", Yoh[index])"
   ]
  },
  {
   "cell_type": "markdown",
   "id": "85074a2c-c19a-4367-a576-dfbc0463ba76",
   "metadata": {
    "id": "94o4RYbOh3Mi"
   },
   "source": [
    "<a name='2'></a>\n",
    "## 2 - Neural Machine Translation with Attention\n",
    "\n",
    "* If you had to translate a book's paragraph from French to English, you would not read the whole paragraph, then close the book and translate. \n",
    "* Even during the translation process, you would read/re-read and focus on the parts of the French paragraph corresponding to the parts of the English you are writing down. \n",
    "* The attention mechanism tells a Neural Machine Translation model where it should pay attention to at any step. \n",
    "\n",
    "<a name='2-1'></a>\n",
    "### 2.1 - Attention Mechanism\n",
    "\n",
    "In this part, you will implement the attention mechanism presented in the lecture videos. \n",
    "* Here is a figure to remind you how the model works. \n",
    "    * The diagram on the left shows the attention model. \n",
    "    * The diagram on the right shows what one \"attention\" step does to calculate the attention variables $\\alpha^{\\langle t, t' \\rangle}$.\n",
    "    * The attention variables $\\alpha^{\\langle t, t' \\rangle}$ are used to compute the context variable $context^{\\langle t \\rangle}$ for each timestep in the output ($t=1, \\ldots, T_y$). \n",
    "\n",
    "<table>\n",
    "<td> \n",
    "<img src=\"images/attn_model.png\" style=\"width:500;height:500px;\"> <br>\n",
    "</td> \n",
    "<td> \n",
    "<img src=\"images/attn_mechanism.png\" style=\"width:500;height:500px;\"> <br>\n",
    "</td> \n",
    "</table>\n",
    "<caption><center> **Figure 1**: Neural machine translation with attention</center></caption>\n"
   ]
  },
  {
   "cell_type": "markdown",
   "id": "913939b6-116c-423f-84e4-eb65548ae2d7",
   "metadata": {
    "id": "b2TkQnykh3Mi"
   },
   "source": [
    "Here are some properties of the model that you may notice: \n",
    "\n",
    "#### Pre-attention and Post-attention LSTMs on both sides of the attention mechanism\n",
    "- There are two separate LSTMs in this model (see diagram on the left): pre-attention and post-attention LSTMs.\n",
    "- *Pre-attention* Bi-LSTM is the one at the bottom of the picture is a Bi-directional LSTM and comes *before* the attention mechanism.\n",
    "    - The attention mechanism is shown in the middle of the left-hand diagram.\n",
    "    - The pre-attention Bi-LSTM goes through $T_x$ time steps\n",
    "- *Post-attention* LSTM: at the top of the diagram comes *after* the attention mechanism. \n",
    "    - The post-attention LSTM goes through $T_y$ time steps. \n",
    "\n",
    "- The post-attention LSTM passes the hidden state $s^{\\langle t \\rangle}$ and cell state $c^{\\langle t \\rangle}$ from one time step to the next. "
   ]
  },
  {
   "cell_type": "markdown",
   "id": "67a4d58b-6588-40ca-bf21-29a910233f47",
   "metadata": {
    "id": "JpznWuWqh3Mi"
   },
   "source": [
    "#### An LSTM has both a hidden state and cell state\n",
    "* In the lecture videos, we were using only a basic RNN for the post-attention sequence model\n",
    "    * This means that the state captured by the RNN was outputting only the hidden state $s^{\\langle t\\rangle}$. \n",
    "* In this assignment, we are using an LSTM instead of a basic RNN.\n",
    "    * So the LSTM has both the hidden state $s^{\\langle t\\rangle}$ and the cell state $c^{\\langle t\\rangle}$. "
   ]
  },
  {
   "cell_type": "markdown",
   "id": "f403b0b9-c4ad-4a90-a373-f81d8ff04c08",
   "metadata": {
    "id": "85btUzl4h3Mj"
   },
   "source": [
    "#### Each time step does not use predictions from the previous time step\n",
    "* Unlike previous text generation examples earlier in the course, in this model, the post-attention LSTM at time $t$ does not take the previous time step's prediction $y^{\\langle t-1 \\rangle}$ as input.\n",
    "* The post-attention LSTM at time 't' only takes the hidden state $s^{\\langle t\\rangle}$ and cell state $c^{\\langle t\\rangle}$ as input. \n",
    "* We have designed the model this way because **unlike language generation (where adjacent characters are highly correlated) there isn't as strong a dependency between the previous character and the next character in a YYYY-MM-DD date**."
   ]
  },
  {
   "cell_type": "markdown",
   "id": "25743a6f-f5de-4bdb-aad6-0c70466aa882",
   "metadata": {
    "id": "NYT3v7rUh3Mk",
    "jp-MarkdownHeadingCollapsed": true
   },
   "source": [
    "#### Concatenation of hidden states from the forward and backward pre-attention LSTMs\n",
    "- $\\overrightarrow{a}^{\\langle t \\rangle}$: hidden state of the forward-direction, pre-attention LSTM.\n",
    "- $\\overleftarrow{a}^{\\langle t \\rangle}$: hidden state of the backward-direction, pre-attention LSTM.\n",
    "- $a^{\\langle t \\rangle} = [\\overrightarrow{a}^{\\langle t \\rangle}, \\overleftarrow{a}^{\\langle t \\rangle}]$: the concatenation of the activations of both the forward-direction $\\overrightarrow{a}^{\\langle t \\rangle}$ and backward-directions $\\overleftarrow{a}^{\\langle t \\rangle}$ of the pre-attention Bi-LSTM. "
   ]
  },
  {
   "cell_type": "markdown",
   "id": "2ac48558-cc7e-4156-a887-390239a37f9d",
   "metadata": {
    "id": "97GUKCqwh3Mk"
   },
   "source": [
    "#### Computing \"energies\" $e^{\\langle t, t' \\rangle}$ as a function of $s^{\\langle t-1 \\rangle}$ and $a^{\\langle t' \\rangle}$\n",
    "- Recall in the lesson videos \"Attention Model\", at time 6:45 to 8:16, the definition of \"e\" as a function of $s^{\\langle t-1 \\rangle}$ and $a^{\\langle t \\rangle}$.\n",
    "    - \"e\" is called the \"energies\" variable.\n",
    "    - $s^{\\langle t-1 \\rangle}$ is the hidden state of the post-attention LSTM\n",
    "    - $a^{\\langle t' \\rangle}$ is the hidden state of the pre-attention LSTM.\n",
    "    - $s^{\\langle t-1 \\rangle}$ and $a^{\\langle t \\rangle}$ are fed into a simple neural network, which learns the function to output $e^{\\langle t, t' \\rangle}$.\n",
    "    - $e^{\\langle t, t' \\rangle}$ is then used when computing the attention $a^{\\langle t, t' \\rangle}$ that $y^{\\langle t \\rangle}$ should pay to $a^{\\langle t' \\rangle}$."
   ]
  },
  {
   "cell_type": "markdown",
   "id": "4f096565-3755-49df-83fe-9bf84189f3a5",
   "metadata": {
    "id": "scu_HnPNh3Mk"
   },
   "source": [
    "- The diagram on the right of figure 1 uses a `RepeatVector` node to copy $s^{\\langle t-1 \\rangle}$'s value $T_x$ times.\n",
    "- Then it uses `Concatenation` to concatenate $s^{\\langle t-1 \\rangle}$ and $a^{\\langle t \\rangle}$.\n",
    "- The concatenation of $s^{\\langle t-1 \\rangle}$ and $a^{\\langle t \\rangle}$ is fed into a \"Dense\" layer, which computes $e^{\\langle t, t' \\rangle}$. \n",
    "- $e^{\\langle t, t' \\rangle}$ is then passed through a softmax to compute $\\alpha^{\\langle t, t' \\rangle}$.\n",
    "- Note that the diagram doesn't explicitly show variable $e^{\\langle t, t' \\rangle}$, but $e^{\\langle t, t' \\rangle}$ is above the Dense layer and below the Softmax layer in the diagram in the right half of figure 1.\n",
    "- We'll explain how to use `RepeatVector` and `Concatenation` in Keras below. "
   ]
  },
  {
   "cell_type": "markdown",
   "id": "4cc9ecae-d71f-4bfc-b246-a58420ce0621",
   "metadata": {
    "id": "_ukmqe_Yh3Ml"
   },
   "source": [
    "#### Implementation Details\n",
    "   \n",
    "Let's implement this neural translator. You will start by implementing two functions: `one_step_attention()` and `model()`.\n",
    "\n",
    "#### one_step_attention\n",
    "* The inputs to the one_step_attention at time step $t$ are:\n",
    "    - $[a^{<1>},a^{<2>}, ..., a^{<T_x>}]$: all hidden states of the pre-attention Bi-LSTM.\n",
    "    - $s^{<t-1>}$: the previous hidden state of the post-attention LSTM \n",
    "* one_step_attention computes:\n",
    "    - $[\\alpha^{<t,1>},\\alpha^{<t,2>}, ..., \\alpha^{<t,T_x>}]$: the attention weights\n",
    "    - $context^{ \\langle t \\rangle }$: the context vector:\n",
    "    \n",
    "$$context^{<t>} = \\sum_{t' = 1}^{T_x} \\alpha^{<t,t'>}a^{<t'>}\\tag{1}$$ \n",
    "\n",
    "##### Clarifying 'context' and 'c'\n",
    "- In the lecture videos, the context was denoted $c^{\\langle t \\rangle}$\n",
    "- In the assignment, we are calling the context $context^{\\langle t \\rangle}$.\n",
    "    - This is to avoid confusion with the post-attention LSTM's internal memory cell variable, which is also denoted $c^{\\langle t \\rangle}$."
   ]
  },
  {
   "cell_type": "markdown",
   "id": "65bae90d-5418-46d2-b1c4-e06aa0302bea",
   "metadata": {},
   "source": [
    "### Attention"
   ]
  },
  {
   "cell_type": "code",
   "execution_count": 45,
   "id": "591f4314-2c2e-4802-bfcd-c1e48ab0d171",
   "metadata": {},
   "outputs": [],
   "source": [
    "class AttentionMechanism(nn.Module):\n",
    "    def __init__(self, encoder_hidden_size, decoder_hidden_size):\n",
    "        super(AttentionMechanism, self).__init__()\n",
    "\n",
    "        # Linear layers\n",
    "        self.attn_layer1 = nn.Linear(encoder_hidden_size * 2 + decoder_hidden_size, 10)\n",
    "        self.attn_layer2 = nn.Linear(10, 1)\n",
    "\n",
    "    def forward(self, encoder_outputs, decoder_hidden):\n",
    "        \"\"\"\n",
    "        encoder_outputs -- output from the encoder Bi-LSTM, shape: (batch_size, sequence_length, 2 * encoder_hidden_size)\n",
    "        decoder_hidden -- last hidden state of the decoder LSTM, shape: (batch_size, decoder_hidden_size)\n",
    "        \"\"\"\n",
    "        # Get the sequence length and batch size from encoder outputs\n",
    "        seq_len = encoder_outputs.size(1)\n",
    "        batch_size = encoder_outputs.size(0)\n",
    "\n",
    "        # Repeat decoder hidden state to match sequence length\n",
    "        decoder_hidden = decoder_hidden.unsqueeze(1).repeat(1, seq_len, 1)\n",
    "\n",
    "        # Concatenate encoder outputs with repeated decoder hidden state\n",
    "        concatenated_inputs = torch.cat((encoder_outputs, decoder_hidden), dim=2)\n",
    "\n",
    "        # Apply two linear layers with a tanh activation in between\n",
    "        attn_energies = self.attn_layer1(concatenated_inputs)\n",
    "        attn_energies = torch.tanh(attn_energies)\n",
    "        attn_energies = self.attn_layer2(attn_energies).squeeze(2)\n",
    "        # attn_energies = nn.ReLU()(attn_energies)\n",
    "\n",
    "        # Apply softmax to calculate attention weights\n",
    "        attention_weights = F.softmax(attn_energies, dim=1).unsqueeze(1)\n",
    "\n",
    "        # Compute context vector as weighted sum of encoder outputs\n",
    "        context_vector = torch.bmm(attention_weights, encoder_outputs).squeeze(1)\n",
    "\n",
    "        # attention_weights are also returned for visualization\n",
    "        return context_vector, attention_weights"
   ]
  },
  {
   "cell_type": "markdown",
   "id": "b377c034-1332-42ae-9375-16e9e3b7216d",
   "metadata": {},
   "source": [
    "### Encoder and Decoder"
   ]
  },
  {
   "cell_type": "code",
   "execution_count": 46,
   "id": "d2753248-3768-4a5a-a951-9d2c138d4fed",
   "metadata": {},
   "outputs": [],
   "source": [
    "class Encoder(nn.Module):\n",
    "    def __init__(self, input_size, hidden_size, num_layers=1, bidirectional=True):\n",
    "        super(Encoder, self).__init__()\n",
    "        self.lstm = nn.LSTM(input_size, hidden_size, num_layers, bidirectional=bidirectional, batch_first=True)\n",
    "\n",
    "    def forward(self, input_seq):\n",
    "        outputs, (hidden, cell) = self.lstm(input_seq)\n",
    "        return outputs, (hidden, cell)\n",
    "\n",
    "class Decoder(nn.Module):\n",
    "    def __init__(self, input_size, hidden_size, output_size, num_layers=1):\n",
    "        super(Decoder, self).__init__()\n",
    "        self.lstm = nn.LSTM(input_size, hidden_size, num_layers, batch_first=True)\n",
    "        self.linear = nn.Linear(hidden_size, output_size)  # final linear layer (logits)\n",
    "\n",
    "    def forward(self, input, hidden, cell):\n",
    "        output, (hidden, cell) = self.lstm(input, (hidden, cell))\n",
    "        output = self.linear(output)\n",
    "        return output, (hidden, cell)"
   ]
  },
  {
   "cell_type": "markdown",
   "id": "30f14b1c-5067-400b-9495-d069ecfef791",
   "metadata": {},
   "source": [
    "### Forward test"
   ]
  },
  {
   "cell_type": "markdown",
   "id": "2eb27d59-c800-4058-b1dc-d294b18836ac",
   "metadata": {},
   "source": [
    "Let's run a step-by-step test to see whether encoder, decoder, and attention will work as what we expect."
   ]
  },
  {
   "cell_type": "code",
   "execution_count": 81,
   "id": "058b8cde-b8d7-4986-9b4a-b51d69d96eca",
   "metadata": {},
   "outputs": [],
   "source": [
    "# Initialize the Encoder and Decoder\n",
    "encoder = Encoder(input_size=37, hidden_size=32).to(device)\n",
    "decoder = Decoder(input_size=64, hidden_size=64, output_size=11).to(device)\n",
    "attention = AttentionMechanism(encoder_hidden_size=32, decoder_hidden_size=64).to(device)"
   ]
  },
  {
   "cell_type": "markdown",
   "id": "b34dd7f4-aa0e-434e-af05-5ae4cdba648b",
   "metadata": {},
   "source": [
    "Take first 3 examples so that batch size is 3, sequence length is 30 and vocabulary size is 37."
   ]
  },
  {
   "cell_type": "code",
   "execution_count": 82,
   "id": "88d6202f-9659-4816-8471-fed470e2fc61",
   "metadata": {},
   "outputs": [
    {
     "data": {
      "text/plain": [
       "torch.Size([3, 30, 37])"
      ]
     },
     "execution_count": 82,
     "metadata": {},
     "output_type": "execute_result"
    }
   ],
   "source": [
    "Xoh[:3].shape"
   ]
  },
  {
   "cell_type": "code",
   "execution_count": 83,
   "id": "c2524a32-5e89-4426-9e50-cfc42515ea6d",
   "metadata": {},
   "outputs": [],
   "source": [
    "encoder_outputs, (hidden, cell) = encoder(Xoh[:3])"
   ]
  },
  {
   "cell_type": "code",
   "execution_count": 84,
   "id": "1d35d75b-5f25-4aec-8f2a-63cb0406faf3",
   "metadata": {},
   "outputs": [
    {
     "name": "stdout",
     "output_type": "stream",
     "text": [
      "encoder output shape: torch.Size([3, 30, 64])\n",
      "encoder hidden shape: torch.Size([2, 3, 32])\n",
      "encoder cell shape: torch.Size([2, 3, 32])\n"
     ]
    }
   ],
   "source": [
    "print(f'encoder output shape: {encoder_outputs.shape}')\n",
    "print(f'encoder hidden shape: {hidden.shape}')\n",
    "print(f'encoder cell shape: {cell.shape}')"
   ]
  },
  {
   "cell_type": "code",
   "execution_count": 85,
   "id": "16ff23f3-18d6-4d13-b34a-dfe6835d7ea2",
   "metadata": {},
   "outputs": [
    {
     "data": {
      "text/plain": [
       "torch.Size([1, 3, 64])"
      ]
     },
     "execution_count": 85,
     "metadata": {},
     "output_type": "execute_result"
    }
   ],
   "source": [
    "decoder_hidden.shape"
   ]
  },
  {
   "cell_type": "markdown",
   "id": "d7f3b387-2d9f-431d-bb86-f80f0272e7b5",
   "metadata": {},
   "source": [
    "Here `hidden` and `cell` has its first dimension 2 because the encoder is a bidirectional LSTM. Below we initialize the decoder's hidden and cell states using the same shape except that the first dimension is flattened, as the decoder is one-direction LSTM."
   ]
  },
  {
   "cell_type": "code",
   "execution_count": 89,
   "id": "4c771242-53e4-4ece-9cbf-767c19ff33c7",
   "metadata": {},
   "outputs": [],
   "source": [
    "# Use zero vectors as decoder's initial states\n",
    "decoder_hidden = torch.zeros_like(hidden).view(1, 3, -1).to(device)  # Reshape to [1, batch_size, hidden_size]\n",
    "decoder_cell = torch.zeros_like(cell).view(1, 3, -1).to(device) # Reshape to [1, batch_size, hidden_size]"
   ]
  },
  {
   "cell_type": "code",
   "execution_count": 90,
   "id": "063c27ff-573a-48dd-ad65-0e7bf0067748",
   "metadata": {},
   "outputs": [
    {
     "data": {
      "text/plain": [
       "torch.Size([3, 64])"
      ]
     },
     "execution_count": 90,
     "metadata": {},
     "output_type": "execute_result"
    }
   ],
   "source": [
    "# Forward pass through the attention mechanism\n",
    "context_vector, _ = attention(encoder_outputs, decoder_hidden.squeeze(0))\n",
    "context_vector.shape"
   ]
  },
  {
   "cell_type": "code",
   "execution_count": 91,
   "id": "22ba943a-e736-4304-b395-2d6331e7fd61",
   "metadata": {
    "editable": true,
    "slideshow": {
     "slide_type": ""
    },
    "tags": []
   },
   "outputs": [
    {
     "name": "stdout",
     "output_type": "stream",
     "text": [
      "decoder output (one-step) shape: torch.Size([3, 1, 11])\n",
      "decoder hidden shape: torch.Size([1, 3, 64])\n",
      "decoder cell shape: torch.Size([1, 3, 64])\n"
     ]
    }
   ],
   "source": [
    "decoder_output, (decoder_hidden, decoder_cell) = decoder(context_vector.unsqueeze(1), decoder_hidden, decoder_cell)\n",
    "decoder_output.shape\n",
    "print(f'decoder output (one-step) shape: {decoder_output.shape}')\n",
    "print(f'decoder hidden shape: {decoder_hidden.shape}')\n",
    "print(f'decoder cell shape: {decoder_cell.shape}')"
   ]
  },
  {
   "cell_type": "markdown",
   "id": "aa143ec1-1a71-4bce-8720-4ecdc1013a4f",
   "metadata": {},
   "source": [
    "For every forward step of the decoder, the attention is calculated using decoder's hidden state of the previous step, so the forward process must be implemented sequentially."
   ]
  },
  {
   "cell_type": "code",
   "execution_count": 47,
   "id": "01ba50c2-2d41-48c6-9db2-f905a60386ac",
   "metadata": {},
   "outputs": [],
   "source": [
    "def decode_sequences(encoder_outputs, decoder, attention, target_length, start_token):\n",
    "    batch_size = encoder_outputs.size(0)\n",
    "    decoder_input = start_token  # Initialize with start token\n",
    "    decoder_hidden, decoder_cell = torch.zeros(1, batch_size, decoder.lstm.hidden_size).to(device), torch.zeros(1, batch_size, decoder.lstm.hidden_size).to(device)\n",
    "\n",
    "    decoder_outputs = []\n",
    "    for t in range(target_length):\n",
    "        context_vector, _ = attention(encoder_outputs, decoder_hidden.squeeze(0))\n",
    "        decoder_output, (decoder_hidden, decoder_cell) = decoder(context_vector.unsqueeze(1), decoder_hidden, decoder_cell)\n",
    "        decoder_outputs.append(decoder_output)\n",
    "\n",
    "    return torch.cat(decoder_outputs, dim=1)  # Concatenate along the time dimension"
   ]
  },
  {
   "cell_type": "code",
   "execution_count": 48,
   "id": "0526d81f-4a2f-498a-83ca-1c73da962526",
   "metadata": {},
   "outputs": [
    {
     "data": {
      "text/plain": [
       "torch.Size([3, 10, 11])"
      ]
     },
     "execution_count": 48,
     "metadata": {},
     "output_type": "execute_result"
    }
   ],
   "source": [
    "target_string = decode_sequences(encoder_outputs, decoder, attention, target_length=10, start_token=context_vector.unsqueeze(1))\n",
    "target_string.shape"
   ]
  },
  {
   "cell_type": "code",
   "execution_count": 49,
   "id": "bb1a194a-7a4e-407f-80d4-a43f83fa9679",
   "metadata": {},
   "outputs": [],
   "source": [
    "del encoder, decoder, attention"
   ]
  },
  {
   "cell_type": "markdown",
   "id": "19a8a173-f689-4ede-9ad6-440086ab60b7",
   "metadata": {
    "editable": true,
    "slideshow": {
     "slide_type": ""
    },
    "tags": []
   },
   "source": [
    "### Wrapping-Up"
   ]
  },
  {
   "cell_type": "markdown",
   "id": "a5f92757-95e0-469b-8a57-9052c76ed401",
   "metadata": {},
   "source": [
    "Now we are ready to make a new class to contain the whole model, so that we can run the forward process in a simple manner."
   ]
  },
  {
   "cell_type": "code",
   "execution_count": 55,
   "id": "95b8bfe2-6df4-4592-8de8-ec8e2ab91ebc",
   "metadata": {},
   "outputs": [],
   "source": [
    "class Seq2SeqAttentionModel(nn.Module):\n",
    "    def __init__(self, encoder, decoder, attention, device):\n",
    "        super(Seq2SeqAttentionModel, self).__init__()\n",
    "        self.encoder = encoder.to(device)\n",
    "        self.decoder = decoder.to(device)\n",
    "        self.attention = attention.to(device)\n",
    "\n",
    "    def forward(self, source, target_length, start_token=None):\n",
    "        batch_size = source.size(0)\n",
    "        encoder_outputs, (hidden, cell) = self.encoder(source)\n",
    "        attention_weights_list = []\n",
    "        \n",
    "        # Initialize decoder hidden and cell states\n",
    "        decoder_hidden = torch.zeros(1, batch_size, self.decoder.lstm.hidden_size).to(device)\n",
    "        decoder_cell = torch.zeros(1, batch_size, self.decoder.lstm.hidden_size).to(device)\n",
    "\n",
    "        # Initialize the decoder input as the start token\n",
    "        if start_token == None:\n",
    "            # Compute initial context vector and set as initial decoder input\n",
    "            context_vector, _ = self.attention(encoder_outputs, decoder_hidden.squeeze(0))\n",
    "            start_token = context_vector.unsqueeze(1)\n",
    "        decoder_input = start_token\n",
    "\n",
    "        # Store the decoder outputs\n",
    "        decoder_outputs = []\n",
    "\n",
    "        for t in range(target_length):\n",
    "            context_vector, attention_weights = self.attention(encoder_outputs, decoder_hidden.squeeze(0))\n",
    "            decoder_output, (decoder_hidden, decoder_cell) = self.decoder(context_vector.unsqueeze(1), decoder_hidden, decoder_cell)\n",
    "            decoder_outputs.append(decoder_output)\n",
    "            attention_weights_list.append(attention_weights)\n",
    "\n",
    "        return torch.cat(decoder_outputs, dim=1), torch.cat(attention_weights_list, dim=1)\n"
   ]
  },
  {
   "cell_type": "markdown",
   "id": "284973f9-5e6d-481b-b27c-84e9950afacc",
   "metadata": {},
   "source": [
    "## Training"
   ]
  },
  {
   "cell_type": "code",
   "execution_count": 56,
   "id": "2499116d-33a0-439f-91aa-5470d68a4fee",
   "metadata": {},
   "outputs": [],
   "source": [
    "from torch.utils.data import Dataset, DataLoader\n",
    "import torch.optim as optim\n",
    "\n",
    "class DateTranslationDataset(Dataset):\n",
    "    def __init__(self, Xoh, Yoh):\n",
    "        \"\"\"\n",
    "        Args:\n",
    "            Xoh (Tensor): Tensor of shape (batch_size, sequence_length, input_vocab_size)\n",
    "            Yoh (Tensor): Tensor of shape (batch_size, sequence_length, output_vocab_size)\n",
    "        \"\"\"\n",
    "        self.Xoh = Xoh\n",
    "        self.Yoh = Yoh\n",
    "\n",
    "    def __len__(self):\n",
    "        return len(self.Xoh)\n",
    "\n",
    "    def __getitem__(self, idx):\n",
    "        return self.Xoh[idx], self.Yoh[idx]"
   ]
  },
  {
   "cell_type": "code",
   "execution_count": 57,
   "id": "bd465128-7497-480b-807a-7675b89ebd02",
   "metadata": {},
   "outputs": [],
   "source": [
    "dataset = DateTranslationDataset(Xoh, Yoh)\n",
    "batch_size = 512\n",
    "data_loader = DataLoader(dataset, batch_size=batch_size, shuffle=True)\n",
    "\n",
    "encoder = Encoder(input_size=37, hidden_size=32)\n",
    "decoder = Decoder(input_size=64, hidden_size=64, output_size=11)\n",
    "attention = AttentionMechanism(encoder_hidden_size=32, decoder_hidden_size=64)\n",
    "seq2seq_model = Seq2SeqAttentionModel(encoder, decoder, attention, device)\n",
    "criterion = nn.CrossEntropyLoss()\n",
    "optimizer = optim.Adam(seq2seq_model.parameters(), lr=0.005)"
   ]
  },
  {
   "cell_type": "code",
   "execution_count": 58,
   "id": "c6b4f30e-734b-4017-b19c-8a2b6854d4f8",
   "metadata": {},
   "outputs": [],
   "source": [
    "# # Optimizers for encoder, decoder, and attention\n",
    "# encoder_optimizer = optim.Adam(encoder.parameters(), lr=0.005)\n",
    "# decoder_optimizer = optim.Adam(list(decoder.parameters()) + list(attention.parameters()), lr=0.005)"
   ]
  },
  {
   "cell_type": "code",
   "execution_count": 59,
   "id": "97154086-131a-4b72-9c3d-5b147d71e670",
   "metadata": {},
   "outputs": [],
   "source": [
    "# # Other initializations...\n",
    "# num_epochs = 20\n",
    "\n",
    "# for epoch in range(num_epochs):\n",
    "#     total_loss = 0\n",
    "\n",
    "#     for input_batch, target_batch in data_loader:\n",
    "#         # Zero the gradients\n",
    "#         encoder_optimizer.zero_grad(set_to_none=True)\n",
    "#         decoder_optimizer.zero_grad(set_to_none=True)\n",
    "\n",
    "#         # Forward pass through encoder\n",
    "#         encoder_outputs, (hidden, cell) = encoder(input_batch)\n",
    "\n",
    "#         # Prepare initial decoder hidden and cell states\n",
    "#         decoder_hidden, decoder_cell = torch.zeros(1, input_batch.size(0), decoder.lstm.hidden_size), torch.zeros(1, input_batch.size(0), decoder.lstm.hidden_size)\n",
    "\n",
    "#         # Compute initial context vector and set as initial decoder input\n",
    "#         context_vector = attention(encoder_outputs, decoder_hidden.squeeze(0))\n",
    "#         decoder_input = context_vector.unsqueeze(1)\n",
    "\n",
    "#         # Forward pass through the decoder for each time step\n",
    "#         decoder_outputs = []\n",
    "#         for t in range(target_batch.size(1)):  # target_batch.size(1) is the sequence length\n",
    "#             decoder_output, (decoder_hidden, decoder_cell) = decoder(decoder_input, decoder_hidden, decoder_cell)\n",
    "#             decoder_outputs.append(decoder_output)\n",
    "#             context_vector = attention(encoder_outputs, decoder_hidden.squeeze(0))\n",
    "#             decoder_input = context_vector.unsqueeze(1)\n",
    "\n",
    "#         decoder_outputs = torch.cat(decoder_outputs, dim=1)\n",
    "\n",
    "#         # Compute the loss\n",
    "#         loss = criterion(decoder_outputs.transpose(1, 2), target_batch.argmax(dim=2))\n",
    "#         total_loss += loss.item()\n",
    "\n",
    "#         # Perform backpropagation and optimize\n",
    "#         loss.backward()\n",
    "#         encoder_optimizer.step()\n",
    "#         decoder_optimizer.step()\n",
    "\n",
    "#     print(f'Epoch [{epoch+1}/{num_epochs}], Loss: {total_loss / len(data_loader):.4f}')\n"
   ]
  },
  {
   "cell_type": "code",
   "execution_count": 60,
   "id": "33b1fca3-febd-4897-bf03-62061507a6d8",
   "metadata": {},
   "outputs": [
    {
     "name": "stdout",
     "output_type": "stream",
     "text": [
      "Epoch [1/20], Loss: 2.1878\n",
      "Epoch [2/20], Loss: 1.9555\n",
      "Epoch [3/20], Loss: 1.5362\n",
      "Epoch [4/20], Loss: 1.2324\n",
      "Epoch [5/20], Loss: 1.2309\n",
      "Epoch [6/20], Loss: 1.1717\n",
      "Epoch [7/20], Loss: 1.0993\n",
      "Epoch [8/20], Loss: 0.9998\n",
      "Epoch [9/20], Loss: 0.9420\n",
      "Epoch [10/20], Loss: 0.8991\n",
      "Epoch [11/20], Loss: 0.8459\n",
      "Epoch [12/20], Loss: 0.7724\n",
      "Epoch [13/20], Loss: 0.6696\n",
      "Epoch [14/20], Loss: 0.5251\n",
      "Epoch [15/20], Loss: 0.3403\n",
      "Epoch [16/20], Loss: 0.1791\n",
      "Epoch [17/20], Loss: 0.0752\n",
      "Epoch [18/20], Loss: 0.0349\n",
      "Epoch [19/20], Loss: 0.0192\n",
      "Epoch [20/20], Loss: 0.0132\n"
     ]
    }
   ],
   "source": [
    "num_epochs = 20\n",
    "\n",
    "for epoch in range(num_epochs):\n",
    "    total_loss = 0\n",
    "\n",
    "    for input_batch, target_batch in data_loader:\n",
    "        # Zero the gradients\n",
    "        optimizer.zero_grad(set_to_none=True)\n",
    "\n",
    "        outputs, _ = seq2seq_model(input_batch, target_length=target_batch.size(1))\n",
    "\n",
    "        # Compute the loss\n",
    "        loss = criterion(outputs.transpose(1, 2), target_batch.argmax(dim=2))\n",
    "        total_loss += loss.item()\n",
    "\n",
    "        # Perform backpropagation and optimize\n",
    "        loss.backward()\n",
    "        optimizer.step()\n",
    "\n",
    "    print(f'Epoch [{epoch+1}/{num_epochs}], Loss: {total_loss / len(data_loader):.4f}')\n"
   ]
  },
  {
   "cell_type": "markdown",
   "id": "4cad2323-b0dc-4087-a496-5cb6b3e97c9f",
   "metadata": {},
   "source": [
    "## Examples"
   ]
  },
  {
   "cell_type": "code",
   "execution_count": 142,
   "id": "ae9538e9-c145-4b8f-bbd9-80323a027836",
   "metadata": {
    "editable": true,
    "slideshow": {
     "slide_type": ""
    },
    "tags": []
   },
   "outputs": [
    {
     "data": {
      "text/plain": [
       "torch.Size([30, 37])"
      ]
     },
     "execution_count": 142,
     "metadata": {},
     "output_type": "execute_result"
    }
   ],
   "source": [
    "sentence = '1 Thursday, Aug. 1969'\n",
    "source = torch.tensor(string_to_int(sentence, 30, human_vocab))\n",
    "source = F.one_hot(source, num_classes=37).float().to(device)\n",
    "source.shape"
   ]
  },
  {
   "cell_type": "code",
   "execution_count": 143,
   "id": "c63e941e-25ea-45ae-ae73-e91ba4f48f2a",
   "metadata": {},
   "outputs": [
    {
     "name": "stdout",
     "output_type": "stream",
     "text": [
      "1996-08-07\n"
     ]
    }
   ],
   "source": [
    "seq2seq_model.eval()\n",
    "output_string, attention_weights = seq2seq_model(source.unsqueeze(0), 10)\n",
    "output_string = torch.argmax(output_string, dim=2)\n",
    "output_string = ''.join([inv_machine_vocab[int(i)] for i in output_string.squeeze()])\n",
    "print(output_string)"
   ]
  },
  {
   "cell_type": "code",
   "execution_count": 144,
   "id": "0cca53cd-b169-47ab-9ea7-fe9c1fb71018",
   "metadata": {},
   "outputs": [
    {
     "data": {
      "text/plain": [
       "torch.Size([1, 10, 30])"
      ]
     },
     "execution_count": 144,
     "metadata": {},
     "output_type": "execute_result"
    }
   ],
   "source": [
    "attention_weights.shape"
   ]
  },
  {
   "cell_type": "code",
   "execution_count": 145,
   "id": "12502d99-8cea-4b9b-8e50-fd864270204c",
   "metadata": {},
   "outputs": [
    {
     "data": {
      "image/png": "[encoded data removed]",
      "text/plain": [
       "<Figure size 800x400 with 2 Axes>"
      ]
     },
     "metadata": {},
     "output_type": "display_data"
    }
   ],
   "source": [
    "import matplotlib.pyplot as plt\n",
    "import seaborn as sns\n",
    "\n",
    "def plot_attention(attention_weights, input_sequence, output_sequence):\n",
    "    # Convert attention weights to numpy array\n",
    "    attention_weights = attention_weights.squeeze().cpu().detach().numpy()\n",
    "\n",
    "    # Define figure size and axis labels\n",
    "    plt.figure(figsize=(8,4))\n",
    "    sns.heatmap(attention_weights, xticklabels=input_sequence, yticklabels=output_sequence, cmap='viridis')\n",
    "\n",
    "    plt.xlabel('Input Sequence')\n",
    "    plt.ylabel('Output Sequence')\n",
    "    plt.title('Attention Weights')\n",
    "    plt.tight_layout()\n",
    "    plt.show()\n",
    "\n",
    "# Assuming input_sequence and output_sequence are lists of tokens/words in your sequences\n",
    "plot_attention(attention_weights, sentence, output_string)\n"
   ]
  },
  {
   "cell_type": "markdown",
   "id": "6ffbf7ae-256a-48cc-b960-707928997d5c",
   "metadata": {},
   "source": [
    "The attention map looks kind of strange, maybe bugs exist."
   ]
  }
 ],
 "metadata": {
  "kernelspec": {
   "display_name": "Python 3 (ipykernel)",
   "language": "python",
   "name": "python3"
  },
  "language_info": {
   "codemirror_mode": {
    "name": "ipython",
    "version": 3
   },
   "file_extension": ".py",
   "mimetype": "text/x-python",
   "name": "python",
   "nbconvert_exporter": "python",
   "pygments_lexer": "ipython3",
   "version": "3.10.12"
  }
 },
 "nbformat": 4,
 "nbformat_minor": 5
}
